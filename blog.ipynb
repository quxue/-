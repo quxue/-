{
 "cells": [
  {
   "cell_type": "markdown",
   "metadata": {},
   "source": [
    "### 爬取韩寒博客中的一篇文章，存到本地"
   ]
  },
  {
   "cell_type": "code",
   "execution_count": 62,
   "metadata": {},
   "outputs": [
    {
     "name": "stdout",
     "output_type": "stream",
     "text": [
      "down\n"
     ]
    }
   ],
   "source": [
    "#coding:utf-8\n",
    "import urllib\n",
    "import urllib.request\n",
    "url = \"http://blog.sina.com.cn/s/articlelist_1191258123_0_1.html\"\n",
    "string = r'<a title=\"\" target=\"_blank\" href=\"http://blog.sina.com.cn/s/blog_4701280b0102wrup.html\">'\n",
    "begin = string.find(\"href\")\n",
    "end = string.find(\"html\",begin,len(string))\n",
    "FileUrl = string[begin + 6:end + 4]\n",
    "filename = FileUrl[-26:]\n",
    "response = urllib.request.urlopen(FileUrl)\n",
    "file = response.read()\n",
    "with open(\"F:\\\\message\\\\\" +filename,\"wb+\") as f:\n",
    "    f.write(file)\n",
    "print(\"down\")\n",
    "\n"
   ]
  },
  {
   "cell_type": "code",
   "execution_count": null,
   "metadata": {},
   "outputs": [],
   "source": []
  }
 ],
 "metadata": {
  "kernelspec": {
   "display_name": "Python 3",
   "language": "python",
   "name": "python3"
  },
  "language_info": {
   "codemirror_mode": {
    "name": "ipython",
    "version": 3
   },
   "file_extension": ".py",
   "mimetype": "text/x-python",
   "name": "python",
   "nbconvert_exporter": "python",
   "pygments_lexer": "ipython3",
   "version": "3.6.5"
  }
 },
 "nbformat": 4,
 "nbformat_minor": 2
}
