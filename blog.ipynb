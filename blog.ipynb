{
 "cells": [
  {
   "cell_type": "markdown",
   "metadata": {},
   "source": [
    "### 爬取韩寒博客中的一篇文章，存到本地"
   ]
  },
  {
   "cell_type": "code",
   "execution_count": 14,
   "metadata": {},
   "outputs": [
    {
     "name": "stdout",
     "output_type": "stream",
     "text": [
      "2\n",
      "3\n",
      "4\n",
      "5\n",
      "6\n",
      "7\n",
      "8\n",
      "9\n",
      "down\n"
     ]
    }
   ],
   "source": [
    "#coding:utf-8\n",
    "import urllib\n",
    "from urllib import request\n",
    "for num in range(1,9):\n",
    "    url = \"http://blog.sina.com.cn/s/articlelist_1191258123_0_\" + str(num) + \".html\"\n",
    "    headers = {\"User_Agent\":\"Mozilla/5.0 (Windows NT 6.2; Win64; x64; rv:65.0) Gecko/20100101 Firefox/65.0\"}\n",
    "    req = request.Request(url = url,headers = headers)\n",
    "    response = request.urlopen(req).read().decode(\"utf-8\")\n",
    "    i = 0\n",
    "    html = 0\n",
    "    urllist = [\" \"]*50\n",
    "    title = response.find(r\"<a title=\")\n",
    "    while i<50 and title != -1:\n",
    "        url = response.find(r\"href=\",title)\n",
    "        if url != -1:\n",
    "            html = response.find(r\"html\",url)\n",
    "            if html != -1:\n",
    "                title = response.find(r\"<a title=\",html)\n",
    "                urllist[i] = response[url+6:html+4]\n",
    "                with open(\"F:\\message\\\\\" + urllist[i][-26:],\"wb+\") as f:\n",
    "                    f.write(urllib.request.urlopen(urllist[i]).read())\n",
    "                i = i+1\n",
    "    num = num + 1\n",
    "print(\"down\")\n"
   ]
  },
  {
   "cell_type": "code",
   "execution_count": null,
   "metadata": {},
   "outputs": [],
   "source": []
  },
  {
   "cell_type": "code",
   "execution_count": null,
   "metadata": {},
   "outputs": [],
   "source": []
  }
 ],
 "metadata": {
  "kernelspec": {
   "display_name": "Python 3",
   "language": "python",
   "name": "python3"
  },
  "language_info": {
   "codemirror_mode": {
    "name": "ipython",
    "version": 3
   },
   "file_extension": ".py",
   "mimetype": "text/x-python",
   "name": "python",
   "nbconvert_exporter": "python",
   "pygments_lexer": "ipython3",
   "version": "3.6.5"
  }
 },
 "nbformat": 4,
 "nbformat_minor": 2
}
