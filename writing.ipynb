{
 "cells": [
  {
   "cell_type": "code",
   "execution_count": 5,
   "metadata": {},
   "outputs": [
    {
     "name": "stdout",
     "output_type": "stream",
     "text": [
      "the number of erro is 10\n",
      "the percent erro is 0.010571%\n"
     ]
    }
   ],
   "source": [
    "import numpy as np\n",
    "import os\n",
    "import operator\n",
    "def classify0(inX,classLabelVector,normDateMat,k):\n",
    "    #求出测试数据和训练集的距离\n",
    "    dateSize = normDateMat.shape[0]\n",
    "    diffMat = np.tile(inX,(dateSize,1))-normDateMat\n",
    "    sqDiffMat = diffMat**2\n",
    "    sqDistance = sqDiffMat.sum(axis =1)\n",
    "    distance = sqDistance ** 0.5\n",
    "    #选出前k个距离最近的数据和其对应的类别\n",
    "    sortedDistance = distance.argsort()\n",
    "    classCount ={}\n",
    "    for i in range(k):\n",
    "        voteLabel = classLabelVector[sortedDistance[i]]\n",
    "        classCount[voteLabel] = classCount.get(voteLabel,0)+1\n",
    "    #选出这k个值里面次数多，即值最大的那个，即按值对字典排序\n",
    "    classCount = sorted(classCount.items(),key=operator.itemgetter(1),reverse = True)\n",
    "    return classCount[0][0]\n",
    "def img2vector(filename):\n",
    "    returnVector = np.zeros((1,1024))\n",
    "    fp = open(filename)\n",
    "    for i in range(32):\n",
    "        lineStr = fp.readline()\n",
    "        for j in range(32):\n",
    "            returnVector[0,32*i+j] = int(lineStr[j])\n",
    "    return returnVector\n",
    "def handwritingClassTest():\n",
    "    hwLabels = []\n",
    "    trainingFileList = os.listdir(\"trainingDigits\")\n",
    "    m = len(trainingFileList)\n",
    "    trainMat = np.zeros((m,1024))\n",
    "    for i in range(m):\n",
    "        filenameStr = trainingFileList[i]\n",
    "        fileStr = filenameStr.split(\".\")[0]\n",
    "        classNum = int(fileStr.split(\"_\")[0])\n",
    "        hwLabels.append(classNum)\n",
    "        trainMat[i,:] = img2vector(\"F:\\\\python_daima\\\\writing\\\\trainingDigits\\\\%s\" % filenameStr)\n",
    "    testFileList = os.listdir(\"testDigits\")\n",
    "    erroCount = 0.0\n",
    "    mTest = len(testFileList)\n",
    "    for i in range(mTest):\n",
    "        TestFileNameStr = testFileList[i]\n",
    "        TestFileStr = TestFileNameStr.split(\".\")[0]\n",
    "        TestClassNum = int(TestFileStr.split(\"_\")[0])\n",
    "        vectorUnderTest = img2vector(\"F:\\\\python_daima\\\\writing\\\\testDigits\\\\%s\" % TestFileNameStr)\n",
    "        classfierResult = classify0(vectorUnderTest,hwLabels,trainMat,3)\n",
    "       # print(\"the classfier result is %d \\n the true result is %d\" % (classfierResult,TestClassNum))\n",
    "        if classfierResult != TestClassNum:\n",
    "            erroCount +=1.0\n",
    "    print(\"the number of erro is %d\" % erroCount)\n",
    "    print(\"the percent erro is %f%%\" % (erroCount/float(mTest)))\n",
    "if __name__ == \"__main__\":\n",
    "    handwritingClassTest()\n",
    "        "
   ]
  },
  {
   "cell_type": "code",
   "execution_count": null,
   "metadata": {},
   "outputs": [],
   "source": []
  }
 ],
 "metadata": {
  "kernelspec": {
   "display_name": "Python 3",
   "language": "python",
   "name": "python3"
  },
  "language_info": {
   "codemirror_mode": {
    "name": "ipython",
    "version": 3
   },
   "file_extension": ".py",
   "mimetype": "text/x-python",
   "name": "python",
   "nbconvert_exporter": "python",
   "pygments_lexer": "ipython3",
   "version": "3.6.5"
  }
 },
 "nbformat": 4,
 "nbformat_minor": 2
}
